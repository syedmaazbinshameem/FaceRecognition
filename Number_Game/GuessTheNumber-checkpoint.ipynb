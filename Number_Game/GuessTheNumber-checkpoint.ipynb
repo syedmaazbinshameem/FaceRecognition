{
 "cells": [
  {
   "cell_type": "code",
   "execution_count": null,
   "id": "426b1dba",
   "metadata": {},
   "outputs": [
    {
     "name": "stdout",
     "output_type": "stream",
     "text": [
      "Guess the number between 0 and 50!\n",
      "Insert your guess: 25\n",
      "YOU WIN!\n",
      "Game Over!\n",
      "The number was 25\n",
      "Play again? Y/N: \n"
     ]
    }
   ],
   "source": [
    "while True:\n",
    "    print(\"Guess the number between 0 and 50!\")\n",
    "    number = randrange(50)\n",
    "    #print(number)\n",
    "    attempts = 0\n",
    "    max_attempts = 5\n",
    "    \n",
    "    while attempts < max_attempts:\n",
    "        guess = int(input(\"Insert your guess: \"))\n",
    "        if guess == number :\n",
    "            print(\"YOU WIN!\")\n",
    "            #print(\"The number was \" + str(number))\n",
    "            attempts = max_attempts\n",
    "        elif guess > number:\n",
    "            print(\"Try a smaller number\")\n",
    "            attempts = attempts + 1\n",
    "        elif guess < number:\n",
    "            print(\"Try a larger number\")\n",
    "            attempts = attempts + 1\n",
    "\n",
    "    if attempts >= max_attempts:\n",
    "        print('Game Over!')\n",
    "        #print('The number was '+ str(number))\n",
    "        \n",
    "    print('The number was '+ str(number))\n",
    "    print('Play again? Y/N: ')\n",
    "    response = input()\n",
    "    if response.lower() == 'y':\n",
    "        continue\n",
    "    else:\n",
    "        break"
   ]
  },
  {
   "cell_type": "code",
   "execution_count": null,
   "id": "217725d8",
   "metadata": {},
   "outputs": [],
   "source": []
  }
 ],
 "metadata": {
  "kernelspec": {
   "display_name": "Python 3 (ipykernel)",
   "language": "python",
   "name": "python3"
  },
  "language_info": {
   "codemirror_mode": {
    "name": "ipython",
    "version": 3
   },
   "file_extension": ".py",
   "mimetype": "text/x-python",
   "name": "python",
   "nbconvert_exporter": "python",
   "pygments_lexer": "ipython3",
   "version": "3.9.7"
  }
 },
 "nbformat": 4,
 "nbformat_minor": 5
}
